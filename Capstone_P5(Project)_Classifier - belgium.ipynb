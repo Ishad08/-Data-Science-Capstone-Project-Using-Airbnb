{
 "cells": [
  {
   "cell_type": "markdown",
   "id": "5ec6ad32",
   "metadata": {},
   "source": [
    "# Importing the library"
   ]
  },
  {
   "cell_type": "code",
   "execution_count": 1,
   "id": "617cf56e",
   "metadata": {},
   "outputs": [],
   "source": [
    "import pandas as pd\n",
    "import matplotlib.pyplot as plt\n",
    "import seaborn as sns\n",
    "import warnings \n",
    "warnings.filterwarnings('ignore')"
   ]
  },
  {
   "cell_type": "code",
   "execution_count": 2,
   "id": "c82365e6",
   "metadata": {},
   "outputs": [
    {
     "data": {
      "text/html": [
       "<div>\n",
       "<style scoped>\n",
       "    .dataframe tbody tr th:only-of-type {\n",
       "        vertical-align: middle;\n",
       "    }\n",
       "\n",
       "    .dataframe tbody tr th {\n",
       "        vertical-align: top;\n",
       "    }\n",
       "\n",
       "    .dataframe thead th {\n",
       "        text-align: right;\n",
       "    }\n",
       "</style>\n",
       "<table border=\"1\" class=\"dataframe\">\n",
       "  <thead>\n",
       "    <tr style=\"text-align: right;\">\n",
       "      <th></th>\n",
       "      <th>ID</th>\n",
       "      <th>Listing Url</th>\n",
       "      <th>Scrape ID</th>\n",
       "      <th>Last Scraped</th>\n",
       "      <th>Name</th>\n",
       "      <th>Summary</th>\n",
       "      <th>Space</th>\n",
       "      <th>Description</th>\n",
       "      <th>Experiences Offered</th>\n",
       "      <th>Neighborhood Overview</th>\n",
       "      <th>...</th>\n",
       "      <th>Review Scores Communication</th>\n",
       "      <th>Review Scores Location</th>\n",
       "      <th>Review Scores Value</th>\n",
       "      <th>License</th>\n",
       "      <th>Jurisdiction Names</th>\n",
       "      <th>Cancellation Policy</th>\n",
       "      <th>Calculated host listings count</th>\n",
       "      <th>Reviews per Month</th>\n",
       "      <th>Geolocation</th>\n",
       "      <th>Features</th>\n",
       "    </tr>\n",
       "  </thead>\n",
       "  <tbody>\n",
       "    <tr>\n",
       "      <th>0</th>\n",
       "      <td>18352107</td>\n",
       "      <td>https://www.airbnb.com/rooms/18352107</td>\n",
       "      <td>20170508215811</td>\n",
       "      <td>2017-05-09</td>\n",
       "      <td>Nice quite furnish room close to airport and EEC</td>\n",
       "      <td>The room is simple and quite (garden side). Ba...</td>\n",
       "      <td>I would like to rent this room from 2/5 for a ...</td>\n",
       "      <td>The room is simple and quite (garden side). Ba...</td>\n",
       "      <td>none</td>\n",
       "      <td>NaN</td>\n",
       "      <td>...</td>\n",
       "      <td>10.0</td>\n",
       "      <td>10.0</td>\n",
       "      <td>10.0</td>\n",
       "      <td>NaN</td>\n",
       "      <td>NaN</td>\n",
       "      <td>flexible</td>\n",
       "      <td>2</td>\n",
       "      <td>1.00</td>\n",
       "      <td>50.84203507146055,4.41090932995338</td>\n",
       "      <td>Host Has Profile Pic,Is Location Exact,Instant...</td>\n",
       "    </tr>\n",
       "    <tr>\n",
       "      <th>1</th>\n",
       "      <td>15881481</td>\n",
       "      <td>https://www.airbnb.com/rooms/15881481</td>\n",
       "      <td>20170508215811</td>\n",
       "      <td>2017-05-09</td>\n",
       "      <td>Bright &amp; Cosy Apartment in Brussels</td>\n",
       "      <td>Bright Apartment 5 minutes walk from the metro...</td>\n",
       "      <td>NaN</td>\n",
       "      <td>Bright Apartment 5 minutes walk from the metro...</td>\n",
       "      <td>none</td>\n",
       "      <td>the neighborhood is quiet (chant d'oiseau) , y...</td>\n",
       "      <td>...</td>\n",
       "      <td>9.0</td>\n",
       "      <td>9.0</td>\n",
       "      <td>9.0</td>\n",
       "      <td>NaN</td>\n",
       "      <td>NaN</td>\n",
       "      <td>strict</td>\n",
       "      <td>1</td>\n",
       "      <td>1.18</td>\n",
       "      <td>50.827328808360164,4.409105853196348</td>\n",
       "      <td>Host Has Profile Pic,Is Location Exact</td>\n",
       "    </tr>\n",
       "    <tr>\n",
       "      <th>2</th>\n",
       "      <td>469616</td>\n",
       "      <td>https://www.airbnb.com/rooms/469616</td>\n",
       "      <td>20170508215811</td>\n",
       "      <td>2017-05-09</td>\n",
       "      <td>Duplex de charme &amp; oasis bruxellois</td>\n",
       "      <td>Au coeur de la plus belle commune bruxelloise,...</td>\n",
       "      <td>reçu comme à l'hotel, commune très verte, mais...</td>\n",
       "      <td>Au coeur de la plus belle commune bruxelloise,...</td>\n",
       "      <td>none</td>\n",
       "      <td>NaN</td>\n",
       "      <td>...</td>\n",
       "      <td>NaN</td>\n",
       "      <td>NaN</td>\n",
       "      <td>NaN</td>\n",
       "      <td>NaN</td>\n",
       "      <td>NaN</td>\n",
       "      <td>flexible</td>\n",
       "      <td>1</td>\n",
       "      <td>NaN</td>\n",
       "      <td>50.827156662490125,4.461720511628605</td>\n",
       "      <td>Host Has Profile Pic,Is Location Exact</td>\n",
       "    </tr>\n",
       "    <tr>\n",
       "      <th>3</th>\n",
       "      <td>8594409</td>\n",
       "      <td>https://www.airbnb.com/rooms/8594409</td>\n",
       "      <td>20170508215811</td>\n",
       "      <td>2017-05-09</td>\n",
       "      <td>Bel appartement dans quartier calme</td>\n",
       "      <td>Pas loin d'un parc et des étangs, dans quartie...</td>\n",
       "      <td>Appartement au 3e étage d'un petit immeuble sa...</td>\n",
       "      <td>Pas loin d'un parc et des étangs, dans quartie...</td>\n",
       "      <td>none</td>\n",
       "      <td>Quartier très calme, à 5 minutes à pied d'une ...</td>\n",
       "      <td>...</td>\n",
       "      <td>10.0</td>\n",
       "      <td>10.0</td>\n",
       "      <td>10.0</td>\n",
       "      <td>NaN</td>\n",
       "      <td>NaN</td>\n",
       "      <td>flexible</td>\n",
       "      <td>1</td>\n",
       "      <td>0.38</td>\n",
       "      <td>50.83268723332151,4.440632517374287</td>\n",
       "      <td>Host Has Profile Pic,Is Location Exact</td>\n",
       "    </tr>\n",
       "    <tr>\n",
       "      <th>4</th>\n",
       "      <td>17149960</td>\n",
       "      <td>https://www.airbnb.com/rooms/17149960</td>\n",
       "      <td>20170508215811</td>\n",
       "      <td>2017-05-09</td>\n",
       "      <td>Comfortable and quiet private room &amp; bath</td>\n",
       "      <td>Comfortable room in one of the most beautiful ...</td>\n",
       "      <td>NaN</td>\n",
       "      <td>Comfortable room in one of the most beautiful ...</td>\n",
       "      <td>none</td>\n",
       "      <td>NaN</td>\n",
       "      <td>...</td>\n",
       "      <td>NaN</td>\n",
       "      <td>NaN</td>\n",
       "      <td>NaN</td>\n",
       "      <td>NaN</td>\n",
       "      <td>NaN</td>\n",
       "      <td>flexible</td>\n",
       "      <td>2</td>\n",
       "      <td>NaN</td>\n",
       "      <td>50.83417373914728,4.412834683262348</td>\n",
       "      <td>Host Has Profile Pic,Is Location Exact</td>\n",
       "    </tr>\n",
       "  </tbody>\n",
       "</table>\n",
       "<p>5 rows × 89 columns</p>\n",
       "</div>"
      ],
      "text/plain": [
       "         ID                            Listing Url       Scrape ID  \\\n",
       "0  18352107  https://www.airbnb.com/rooms/18352107  20170508215811   \n",
       "1  15881481  https://www.airbnb.com/rooms/15881481  20170508215811   \n",
       "2    469616    https://www.airbnb.com/rooms/469616  20170508215811   \n",
       "3   8594409   https://www.airbnb.com/rooms/8594409  20170508215811   \n",
       "4  17149960  https://www.airbnb.com/rooms/17149960  20170508215811   \n",
       "\n",
       "  Last Scraped                                              Name  \\\n",
       "0   2017-05-09  Nice quite furnish room close to airport and EEC   \n",
       "1   2017-05-09               Bright & Cosy Apartment in Brussels   \n",
       "2   2017-05-09               Duplex de charme & oasis bruxellois   \n",
       "3   2017-05-09               Bel appartement dans quartier calme   \n",
       "4   2017-05-09         Comfortable and quiet private room & bath   \n",
       "\n",
       "                                             Summary  \\\n",
       "0  The room is simple and quite (garden side). Ba...   \n",
       "1  Bright Apartment 5 minutes walk from the metro...   \n",
       "2  Au coeur de la plus belle commune bruxelloise,...   \n",
       "3  Pas loin d'un parc et des étangs, dans quartie...   \n",
       "4  Comfortable room in one of the most beautiful ...   \n",
       "\n",
       "                                               Space  \\\n",
       "0  I would like to rent this room from 2/5 for a ...   \n",
       "1                                                NaN   \n",
       "2  reçu comme à l'hotel, commune très verte, mais...   \n",
       "3  Appartement au 3e étage d'un petit immeuble sa...   \n",
       "4                                                NaN   \n",
       "\n",
       "                                         Description Experiences Offered  \\\n",
       "0  The room is simple and quite (garden side). Ba...                none   \n",
       "1  Bright Apartment 5 minutes walk from the metro...                none   \n",
       "2  Au coeur de la plus belle commune bruxelloise,...                none   \n",
       "3  Pas loin d'un parc et des étangs, dans quartie...                none   \n",
       "4  Comfortable room in one of the most beautiful ...                none   \n",
       "\n",
       "                               Neighborhood Overview  ...  \\\n",
       "0                                                NaN  ...   \n",
       "1  the neighborhood is quiet (chant d'oiseau) , y...  ...   \n",
       "2                                                NaN  ...   \n",
       "3  Quartier très calme, à 5 minutes à pied d'une ...  ...   \n",
       "4                                                NaN  ...   \n",
       "\n",
       "  Review Scores Communication Review Scores Location Review Scores Value  \\\n",
       "0                        10.0                   10.0                10.0   \n",
       "1                         9.0                    9.0                 9.0   \n",
       "2                         NaN                    NaN                 NaN   \n",
       "3                        10.0                   10.0                10.0   \n",
       "4                         NaN                    NaN                 NaN   \n",
       "\n",
       "  License Jurisdiction Names Cancellation Policy  \\\n",
       "0     NaN                NaN            flexible   \n",
       "1     NaN                NaN              strict   \n",
       "2     NaN                NaN            flexible   \n",
       "3     NaN                NaN            flexible   \n",
       "4     NaN                NaN            flexible   \n",
       "\n",
       "  Calculated host listings count Reviews per Month  \\\n",
       "0                              2              1.00   \n",
       "1                              1              1.18   \n",
       "2                              1               NaN   \n",
       "3                              1              0.38   \n",
       "4                              2               NaN   \n",
       "\n",
       "                            Geolocation  \\\n",
       "0    50.84203507146055,4.41090932995338   \n",
       "1  50.827328808360164,4.409105853196348   \n",
       "2  50.827156662490125,4.461720511628605   \n",
       "3   50.83268723332151,4.440632517374287   \n",
       "4   50.83417373914728,4.412834683262348   \n",
       "\n",
       "                                            Features  \n",
       "0  Host Has Profile Pic,Is Location Exact,Instant...  \n",
       "1             Host Has Profile Pic,Is Location Exact  \n",
       "2             Host Has Profile Pic,Is Location Exact  \n",
       "3             Host Has Profile Pic,Is Location Exact  \n",
       "4             Host Has Profile Pic,Is Location Exact  \n",
       "\n",
       "[5 rows x 89 columns]"
      ]
     },
     "execution_count": 2,
     "metadata": {},
     "output_type": "execute_result"
    }
   ],
   "source": [
    "dataA = pd.read_csv('belgium.csv')\n",
    "dataA.head()"
   ]
  },
  {
   "cell_type": "code",
   "execution_count": 3,
   "id": "349f2651",
   "metadata": {},
   "outputs": [
    {
     "data": {
      "text/plain": [
       "(7419, 89)"
      ]
     },
     "execution_count": 3,
     "metadata": {},
     "output_type": "execute_result"
    }
   ],
   "source": [
    "dataA.shape"
   ]
  },
  {
   "cell_type": "code",
   "execution_count": 4,
   "id": "45c99b64",
   "metadata": {},
   "outputs": [
    {
     "data": {
      "text/plain": [
       "Index(['ID', 'Listing Url', 'Scrape ID', 'Last Scraped', 'Name', 'Summary',\n",
       "       'Space', 'Description', 'Experiences Offered', 'Neighborhood Overview',\n",
       "       'Notes', 'Transit', 'Access', 'Interaction', 'House Rules',\n",
       "       'Thumbnail Url', 'Medium Url', 'Picture Url', 'XL Picture Url',\n",
       "       'Host ID', 'Host URL', 'Host Name', 'Host Since', 'Host Location',\n",
       "       'Host About', 'Host Response Time', 'Host Response Rate',\n",
       "       'Host Acceptance Rate', 'Host Thumbnail Url', 'Host Picture Url',\n",
       "       'Host Neighbourhood', 'Host Listings Count',\n",
       "       'Host Total Listings Count', 'Host Verifications', 'Street',\n",
       "       'Neighbourhood', 'Neighbourhood Cleansed',\n",
       "       'Neighbourhood Group Cleansed', 'City', 'State', 'Zipcode', 'Market',\n",
       "       'Smart Location', 'Country Code', 'Country', 'Latitude', 'Longitude',\n",
       "       'Property Type', 'Room Type', 'Accommodates', 'Bathrooms', 'Bedrooms',\n",
       "       'Beds', 'Bed Type', 'Amenities', 'Square Feet', 'Price', 'Weekly Price',\n",
       "       'Monthly Price', 'Security Deposit', 'Cleaning Fee', 'Guests Included',\n",
       "       'Extra People', 'Minimum Nights', 'Maximum Nights', 'Calendar Updated',\n",
       "       'Has Availability', 'Availability 30', 'Availability 60',\n",
       "       'Availability 90', 'Availability 365', 'Calendar last Scraped',\n",
       "       'Number of Reviews', 'First Review', 'Last Review',\n",
       "       'Review Scores Rating', 'Review Scores Accuracy',\n",
       "       'Review Scores Cleanliness', 'Review Scores Checkin',\n",
       "       'Review Scores Communication', 'Review Scores Location',\n",
       "       'Review Scores Value', 'License', 'Jurisdiction Names',\n",
       "       'Cancellation Policy', 'Calculated host listings count',\n",
       "       'Reviews per Month', 'Geolocation', 'Features'],\n",
       "      dtype='object')"
      ]
     },
     "execution_count": 4,
     "metadata": {},
     "output_type": "execute_result"
    }
   ],
   "source": [
    "dataA.columns"
   ]
  },
  {
   "cell_type": "code",
   "execution_count": 5,
   "id": "e24e96e6",
   "metadata": {},
   "outputs": [
    {
     "data": {
      "text/html": [
       "<div>\n",
       "<style scoped>\n",
       "    .dataframe tbody tr th:only-of-type {\n",
       "        vertical-align: middle;\n",
       "    }\n",
       "\n",
       "    .dataframe tbody tr th {\n",
       "        vertical-align: top;\n",
       "    }\n",
       "\n",
       "    .dataframe thead th {\n",
       "        text-align: right;\n",
       "    }\n",
       "</style>\n",
       "<table border=\"1\" class=\"dataframe\">\n",
       "  <thead>\n",
       "    <tr style=\"text-align: right;\">\n",
       "      <th></th>\n",
       "      <th>Price</th>\n",
       "      <th>Room Type</th>\n",
       "      <th>Property Type</th>\n",
       "      <th>Bedrooms</th>\n",
       "      <th>Host Total Listings Count</th>\n",
       "    </tr>\n",
       "  </thead>\n",
       "  <tbody>\n",
       "    <tr>\n",
       "      <th>0</th>\n",
       "      <td>26.0</td>\n",
       "      <td>Private room</td>\n",
       "      <td>Guesthouse</td>\n",
       "      <td>1.0</td>\n",
       "      <td>4.0</td>\n",
       "    </tr>\n",
       "    <tr>\n",
       "      <th>1</th>\n",
       "      <td>75.0</td>\n",
       "      <td>Entire home/apt</td>\n",
       "      <td>Apartment</td>\n",
       "      <td>1.0</td>\n",
       "      <td>1.0</td>\n",
       "    </tr>\n",
       "    <tr>\n",
       "      <th>2</th>\n",
       "      <td>110.0</td>\n",
       "      <td>Entire home/apt</td>\n",
       "      <td>House</td>\n",
       "      <td>2.0</td>\n",
       "      <td>1.0</td>\n",
       "    </tr>\n",
       "    <tr>\n",
       "      <th>3</th>\n",
       "      <td>60.0</td>\n",
       "      <td>Entire home/apt</td>\n",
       "      <td>Apartment</td>\n",
       "      <td>1.0</td>\n",
       "      <td>1.0</td>\n",
       "    </tr>\n",
       "    <tr>\n",
       "      <th>4</th>\n",
       "      <td>55.0</td>\n",
       "      <td>Private room</td>\n",
       "      <td>Apartment</td>\n",
       "      <td>1.0</td>\n",
       "      <td>2.0</td>\n",
       "    </tr>\n",
       "    <tr>\n",
       "      <th>...</th>\n",
       "      <td>...</td>\n",
       "      <td>...</td>\n",
       "      <td>...</td>\n",
       "      <td>...</td>\n",
       "      <td>...</td>\n",
       "    </tr>\n",
       "    <tr>\n",
       "      <th>7414</th>\n",
       "      <td>350.0</td>\n",
       "      <td>Entire home/apt</td>\n",
       "      <td>Apartment</td>\n",
       "      <td>5.0</td>\n",
       "      <td>7.0</td>\n",
       "    </tr>\n",
       "    <tr>\n",
       "      <th>7415</th>\n",
       "      <td>65.0</td>\n",
       "      <td>Private room</td>\n",
       "      <td>House</td>\n",
       "      <td>1.0</td>\n",
       "      <td>1.0</td>\n",
       "    </tr>\n",
       "    <tr>\n",
       "      <th>7416</th>\n",
       "      <td>65.0</td>\n",
       "      <td>Private room</td>\n",
       "      <td>House</td>\n",
       "      <td>1.0</td>\n",
       "      <td>1.0</td>\n",
       "    </tr>\n",
       "    <tr>\n",
       "      <th>7417</th>\n",
       "      <td>60.0</td>\n",
       "      <td>Entire home/apt</td>\n",
       "      <td>House</td>\n",
       "      <td>1.0</td>\n",
       "      <td>23.0</td>\n",
       "    </tr>\n",
       "    <tr>\n",
       "      <th>7418</th>\n",
       "      <td>25.0</td>\n",
       "      <td>Entire home/apt</td>\n",
       "      <td>Apartment</td>\n",
       "      <td>0.0</td>\n",
       "      <td>1.0</td>\n",
       "    </tr>\n",
       "  </tbody>\n",
       "</table>\n",
       "<p>7419 rows × 5 columns</p>\n",
       "</div>"
      ],
      "text/plain": [
       "      Price        Room Type Property Type  Bedrooms  \\\n",
       "0      26.0     Private room    Guesthouse       1.0   \n",
       "1      75.0  Entire home/apt     Apartment       1.0   \n",
       "2     110.0  Entire home/apt         House       2.0   \n",
       "3      60.0  Entire home/apt     Apartment       1.0   \n",
       "4      55.0     Private room     Apartment       1.0   \n",
       "...     ...              ...           ...       ...   \n",
       "7414  350.0  Entire home/apt     Apartment       5.0   \n",
       "7415   65.0     Private room         House       1.0   \n",
       "7416   65.0     Private room         House       1.0   \n",
       "7417   60.0  Entire home/apt         House       1.0   \n",
       "7418   25.0  Entire home/apt     Apartment       0.0   \n",
       "\n",
       "      Host Total Listings Count  \n",
       "0                           4.0  \n",
       "1                           1.0  \n",
       "2                           1.0  \n",
       "3                           1.0  \n",
       "4                           2.0  \n",
       "...                         ...  \n",
       "7414                        7.0  \n",
       "7415                        1.0  \n",
       "7416                        1.0  \n",
       "7417                       23.0  \n",
       "7418                        1.0  \n",
       "\n",
       "[7419 rows x 5 columns]"
      ]
     },
     "execution_count": 5,
     "metadata": {},
     "output_type": "execute_result"
    }
   ],
   "source": [
    "data = dataA[['Price','Room Type','Property Type','Bedrooms','Host Total Listings Count']]\n",
    "data"
   ]
  },
  {
   "cell_type": "code",
   "execution_count": 6,
   "id": "7529b9dc",
   "metadata": {},
   "outputs": [
    {
     "name": "stdout",
     "output_type": "stream",
     "text": [
      "<class 'pandas.core.frame.DataFrame'>\n",
      "RangeIndex: 7419 entries, 0 to 7418\n",
      "Data columns (total 5 columns):\n",
      " #   Column                     Non-Null Count  Dtype  \n",
      "---  ------                     --------------  -----  \n",
      " 0   Price                      7415 non-null   float64\n",
      " 1   Room Type                  7419 non-null   object \n",
      " 2   Property Type              7419 non-null   object \n",
      " 3   Bedrooms                   7410 non-null   float64\n",
      " 4   Host Total Listings Count  7418 non-null   float64\n",
      "dtypes: float64(3), object(2)\n",
      "memory usage: 289.9+ KB\n"
     ]
    }
   ],
   "source": [
    "data.info()"
   ]
  },
  {
   "cell_type": "code",
   "execution_count": 7,
   "id": "1bab8854",
   "metadata": {},
   "outputs": [],
   "source": [
    "data['Price']=data['Price'].fillna(data['Price'].mean())\n",
    "data['Host Total Listings Count']=data['Host Total Listings Count'].fillna(data['Host Total Listings Count'].mean())\n",
    "data['Bedrooms']=data['Bedrooms'].fillna(data['Bedrooms'].mean())"
   ]
  },
  {
   "cell_type": "code",
   "execution_count": 8,
   "id": "a5b82814",
   "metadata": {},
   "outputs": [
    {
     "name": "stdout",
     "output_type": "stream",
     "text": [
      "<class 'pandas.core.frame.DataFrame'>\n",
      "RangeIndex: 7419 entries, 0 to 7418\n",
      "Data columns (total 5 columns):\n",
      " #   Column                     Non-Null Count  Dtype  \n",
      "---  ------                     --------------  -----  \n",
      " 0   Price                      7419 non-null   float64\n",
      " 1   Room Type                  7419 non-null   object \n",
      " 2   Property Type              7419 non-null   object \n",
      " 3   Bedrooms                   7419 non-null   float64\n",
      " 4   Host Total Listings Count  7419 non-null   float64\n",
      "dtypes: float64(3), object(2)\n",
      "memory usage: 289.9+ KB\n"
     ]
    }
   ],
   "source": [
    "data.info()"
   ]
  },
  {
   "cell_type": "code",
   "execution_count": 9,
   "id": "3344e610",
   "metadata": {},
   "outputs": [],
   "source": [
    "# data = data[(data['Property Type'] == 'Apartment') | (data['Property Type'] == 'House') | (data['Property Type'] == 'Loft') | (data['Property Type'] == 'Bed & Breakfast')]\n",
    "# data"
   ]
  },
  {
   "cell_type": "code",
   "execution_count": 10,
   "id": "dc4c5bcb",
   "metadata": {},
   "outputs": [],
   "source": [
    "from sklearn.preprocessing import LabelEncoder\n",
    "le=LabelEncoder()\n",
    "data['Room Type']=le.fit_transform(data['Room Type'])\n",
    "data['Property Type']=le.fit_transform(data['Property Type'])"
   ]
  },
  {
   "cell_type": "code",
   "execution_count": 11,
   "id": "b47860fb",
   "metadata": {},
   "outputs": [
    {
     "name": "stdout",
     "output_type": "stream",
     "text": [
      "1.214709851551957\n"
     ]
    }
   ],
   "source": [
    "Bedrooms_mean = data['Bedrooms'].mean()\n",
    "print(Bedrooms_mean)\n",
    "data[\"Bedrooms\"].fillna(Bedrooms_mean, inplace = True)"
   ]
  },
  {
   "cell_type": "code",
   "execution_count": 12,
   "id": "56a84924",
   "metadata": {},
   "outputs": [
    {
     "data": {
      "text/html": [
       "<div>\n",
       "<style scoped>\n",
       "    .dataframe tbody tr th:only-of-type {\n",
       "        vertical-align: middle;\n",
       "    }\n",
       "\n",
       "    .dataframe tbody tr th {\n",
       "        vertical-align: top;\n",
       "    }\n",
       "\n",
       "    .dataframe thead th {\n",
       "        text-align: right;\n",
       "    }\n",
       "</style>\n",
       "<table border=\"1\" class=\"dataframe\">\n",
       "  <thead>\n",
       "    <tr style=\"text-align: right;\">\n",
       "      <th></th>\n",
       "      <th>Price</th>\n",
       "      <th>Room Type</th>\n",
       "      <th>Property Type</th>\n",
       "      <th>Bedrooms</th>\n",
       "      <th>Host Total Listings Count</th>\n",
       "    </tr>\n",
       "  </thead>\n",
       "  <tbody>\n",
       "    <tr>\n",
       "      <th>0</th>\n",
       "      <td>26.0</td>\n",
       "      <td>1</td>\n",
       "      <td>12</td>\n",
       "      <td>1.0</td>\n",
       "      <td>4.0</td>\n",
       "    </tr>\n",
       "    <tr>\n",
       "      <th>1</th>\n",
       "      <td>75.0</td>\n",
       "      <td>0</td>\n",
       "      <td>0</td>\n",
       "      <td>1.0</td>\n",
       "      <td>1.0</td>\n",
       "    </tr>\n",
       "    <tr>\n",
       "      <th>2</th>\n",
       "      <td>110.0</td>\n",
       "      <td>0</td>\n",
       "      <td>14</td>\n",
       "      <td>2.0</td>\n",
       "      <td>1.0</td>\n",
       "    </tr>\n",
       "    <tr>\n",
       "      <th>3</th>\n",
       "      <td>60.0</td>\n",
       "      <td>0</td>\n",
       "      <td>0</td>\n",
       "      <td>1.0</td>\n",
       "      <td>1.0</td>\n",
       "    </tr>\n",
       "    <tr>\n",
       "      <th>4</th>\n",
       "      <td>55.0</td>\n",
       "      <td>1</td>\n",
       "      <td>0</td>\n",
       "      <td>1.0</td>\n",
       "      <td>2.0</td>\n",
       "    </tr>\n",
       "    <tr>\n",
       "      <th>...</th>\n",
       "      <td>...</td>\n",
       "      <td>...</td>\n",
       "      <td>...</td>\n",
       "      <td>...</td>\n",
       "      <td>...</td>\n",
       "    </tr>\n",
       "    <tr>\n",
       "      <th>7414</th>\n",
       "      <td>350.0</td>\n",
       "      <td>0</td>\n",
       "      <td>0</td>\n",
       "      <td>5.0</td>\n",
       "      <td>7.0</td>\n",
       "    </tr>\n",
       "    <tr>\n",
       "      <th>7415</th>\n",
       "      <td>65.0</td>\n",
       "      <td>1</td>\n",
       "      <td>14</td>\n",
       "      <td>1.0</td>\n",
       "      <td>1.0</td>\n",
       "    </tr>\n",
       "    <tr>\n",
       "      <th>7416</th>\n",
       "      <td>65.0</td>\n",
       "      <td>1</td>\n",
       "      <td>14</td>\n",
       "      <td>1.0</td>\n",
       "      <td>1.0</td>\n",
       "    </tr>\n",
       "    <tr>\n",
       "      <th>7417</th>\n",
       "      <td>60.0</td>\n",
       "      <td>0</td>\n",
       "      <td>14</td>\n",
       "      <td>1.0</td>\n",
       "      <td>23.0</td>\n",
       "    </tr>\n",
       "    <tr>\n",
       "      <th>7418</th>\n",
       "      <td>25.0</td>\n",
       "      <td>0</td>\n",
       "      <td>0</td>\n",
       "      <td>0.0</td>\n",
       "      <td>1.0</td>\n",
       "    </tr>\n",
       "  </tbody>\n",
       "</table>\n",
       "<p>7419 rows × 5 columns</p>\n",
       "</div>"
      ],
      "text/plain": [
       "      Price  Room Type  Property Type  Bedrooms  Host Total Listings Count\n",
       "0      26.0          1             12       1.0                        4.0\n",
       "1      75.0          0              0       1.0                        1.0\n",
       "2     110.0          0             14       2.0                        1.0\n",
       "3      60.0          0              0       1.0                        1.0\n",
       "4      55.0          1              0       1.0                        2.0\n",
       "...     ...        ...            ...       ...                        ...\n",
       "7414  350.0          0              0       5.0                        7.0\n",
       "7415   65.0          1             14       1.0                        1.0\n",
       "7416   65.0          1             14       1.0                        1.0\n",
       "7417   60.0          0             14       1.0                       23.0\n",
       "7418   25.0          0              0       0.0                        1.0\n",
       "\n",
       "[7419 rows x 5 columns]"
      ]
     },
     "execution_count": 12,
     "metadata": {},
     "output_type": "execute_result"
    }
   ],
   "source": [
    "data"
   ]
  },
  {
   "cell_type": "code",
   "execution_count": 13,
   "id": "79387cda",
   "metadata": {},
   "outputs": [],
   "source": [
    "X = data.drop(columns = ['Property Type'])\n",
    "y = data['Property Type']"
   ]
  },
  {
   "cell_type": "code",
   "execution_count": 14,
   "id": "aa25a4d8",
   "metadata": {},
   "outputs": [
    {
     "data": {
      "text/plain": [
       "(7419, 4)"
      ]
     },
     "execution_count": 14,
     "metadata": {},
     "output_type": "execute_result"
    }
   ],
   "source": [
    "X.shape"
   ]
  },
  {
   "cell_type": "code",
   "execution_count": 15,
   "id": "1e2117e7",
   "metadata": {},
   "outputs": [
    {
     "data": {
      "text/plain": [
       "(7419,)"
      ]
     },
     "execution_count": 15,
     "metadata": {},
     "output_type": "execute_result"
    }
   ],
   "source": [
    "y.shape"
   ]
  },
  {
   "cell_type": "code",
   "execution_count": 16,
   "id": "630e1da6",
   "metadata": {},
   "outputs": [
    {
     "name": "stdout",
     "output_type": "stream",
     "text": [
      "(7419, 4) (7419,)\n",
      "(1483, 4) (1483,)\n",
      "(5936, 4) (5936,)\n"
     ]
    }
   ],
   "source": [
    "from sklearn.model_selection import train_test_split \n",
    "X_train, X_test, y_train, y_test = train_test_split(X, y, test_size=0.8, random_state=42)\n",
    "print(X.shape, y.shape)\n",
    "print(X_train.shape, y_train.shape)\n",
    "print(X_test.shape, y_test.shape)"
   ]
  },
  {
   "cell_type": "code",
   "execution_count": 17,
   "id": "5b639b69",
   "metadata": {},
   "outputs": [],
   "source": [
    "from sklearn.preprocessing import StandardScaler\n",
    "scaler = StandardScaler()\n",
    "scaled_x_train = scaler.fit_transform(X_train)\n",
    "scaled_x_test = scaler.transform(X_test)"
   ]
  },
  {
   "cell_type": "markdown",
   "id": "1e9d3044",
   "metadata": {},
   "source": [
    "# KNN classifier model"
   ]
  },
  {
   "cell_type": "code",
   "execution_count": 18,
   "id": "efb4d42c",
   "metadata": {},
   "outputs": [],
   "source": [
    "from sklearn.neighbors import KNeighborsClassifier"
   ]
  },
  {
   "cell_type": "code",
   "execution_count": 19,
   "id": "8ae222ab",
   "metadata": {},
   "outputs": [
    {
     "data": {
      "text/plain": [
       "KNeighborsClassifier(n_neighbors=4)"
      ]
     },
     "execution_count": 19,
     "metadata": {},
     "output_type": "execute_result"
    }
   ],
   "source": [
    "knn_model = KNeighborsClassifier(n_neighbors = 4)\n",
    "knn_model.fit(scaled_x_train,y_train)"
   ]
  },
  {
   "cell_type": "code",
   "execution_count": 20,
   "id": "6c630834",
   "metadata": {},
   "outputs": [
    {
     "name": "stdout",
     "output_type": "stream",
     "text": [
      "              precision    recall  f1-score   support\n",
      "\n",
      "           0       0.80      0.94      0.87      4573\n",
      "           1       0.33      0.21      0.26       136\n",
      "           2       0.00      0.00      0.00         2\n",
      "           3       0.00      0.00      0.00         2\n",
      "           4       0.00      0.00      0.00         5\n",
      "           5       0.00      0.00      0.00         1\n",
      "           6       0.00      0.00      0.00         1\n",
      "           7       0.00      0.00      0.00         1\n",
      "           8       0.00      0.00      0.00        66\n",
      "           9       0.00      0.00      0.00         5\n",
      "          10       0.00      0.00      0.00         2\n",
      "          11       0.00      0.00      0.00         2\n",
      "          12       0.36      0.15      0.21        33\n",
      "          13       0.00      0.00      0.00         2\n",
      "          14       0.33      0.17      0.22       790\n",
      "          15       0.00      0.00      0.00       151\n",
      "          16       0.00      0.00      0.00        30\n",
      "          17       0.00      0.00      0.00         4\n",
      "          18       0.00      0.00      0.00         1\n",
      "          19       0.00      0.00      0.00         1\n",
      "          20       0.08      0.01      0.02       110\n",
      "          21       0.00      0.00      0.00        17\n",
      "          22       0.00      0.00      0.00         1\n",
      "\n",
      "    accuracy                           0.76      5936\n",
      "   macro avg       0.08      0.06      0.07      5936\n",
      "weighted avg       0.67      0.76      0.70      5936\n",
      "\n"
     ]
    }
   ],
   "source": [
    "y_pred = knn_model.predict(scaled_x_test)\n",
    "from sklearn.metrics import classification_report, confusion_matrix,accuracy_score\n",
    "accuracy_score(y_test,y_pred)\n",
    "print(classification_report(y_test,y_pred))"
   ]
  },
  {
   "cell_type": "markdown",
   "id": "792f3c52",
   "metadata": {},
   "source": [
    "# Elbow method for chossing the value of k"
   ]
  },
  {
   "cell_type": "code",
   "execution_count": 21,
   "id": "0d62a73f",
   "metadata": {},
   "outputs": [],
   "source": [
    "from sklearn.metrics import classification_report, confusion_matrix,accuracy_score\n",
    "test_error_rates = []\n",
    "for k in range(1,30):\n",
    "    knn_model = KNeighborsClassifier(n_neighbors = k)\n",
    "    knn_model.fit(scaled_x_train,y_train)\n",
    "    y_pred_test = knn_model.predict(scaled_x_test)\n",
    "    test_error = 1 - accuracy_score(y_test,y_pred_test)\n",
    "    test_error_rates.append(test_error)"
   ]
  },
  {
   "cell_type": "code",
   "execution_count": 22,
   "id": "fafdc70c",
   "metadata": {},
   "outputs": [
    {
     "data": {
      "text/plain": [
       "[0.31047843665768193,\n",
       " 0.25690700808625333,\n",
       " 0.25977088948787064,\n",
       " 0.24376684636118595,\n",
       " 0.24191374663072773,\n",
       " 0.24056603773584906,\n",
       " 0.23618598382749323,\n",
       " 0.2353436657681941,\n",
       " 0.2289420485175202,\n",
       " 0.2289420485175202,\n",
       " 0.2296159029649596,\n",
       " 0.23231132075471694,\n",
       " 0.2289420485175202,\n",
       " 0.23079514824797842,\n",
       " 0.2264150943396226,\n",
       " 0.2286051212938005,\n",
       " 0.22708894878706198,\n",
       " 0.2267520215633423,\n",
       " 0.22944743935309975,\n",
       " 0.226078167115903,\n",
       " 0.22742587601078168,\n",
       " 0.22489892183288407,\n",
       " 0.2282681940700808,\n",
       " 0.226078167115903,\n",
       " 0.22624663072776285,\n",
       " 0.2267520215633423,\n",
       " 0.22692048517520214,\n",
       " 0.2264150943396226,\n",
       " 0.22793126684636122]"
      ]
     },
     "execution_count": 22,
     "metadata": {},
     "output_type": "execute_result"
    }
   ],
   "source": [
    "test_error_rates"
   ]
  },
  {
   "cell_type": "code",
   "execution_count": 23,
   "id": "e39f6588",
   "metadata": {},
   "outputs": [
    {
     "data": {
      "text/plain": [
       "Text(0, 0.5, 'error rate')"
      ]
     },
     "execution_count": 23,
     "metadata": {},
     "output_type": "execute_result"
    },
    {
     "data": {
      "image/png": "[encoded data removed]",
      "text/plain": [
       "<Figure size 1600x1400 with 1 Axes>"
      ]
     },
     "metadata": {
      "needs_background": "light"
     },
     "output_type": "display_data"
    }
   ],
   "source": [
    "plt.figure(figsize =(8,7),dpi = 200)\n",
    "plt.plot(range(1,30) , test_error_rates, label = 'Test_error')\n",
    "plt.legend()\n",
    "plt.xlabel('k.value')\n",
    "plt.ylabel('error rate')"
   ]
  },
  {
   "cell_type": "markdown",
   "id": "590a7ac4",
   "metadata": {},
   "source": [
    "From the above graph we can say optimal value for k is 6 because the graph of error rate increases after that"
   ]
  },
  {
   "cell_type": "markdown",
   "id": "ed79b9f4",
   "metadata": {},
   "source": [
    "# Full cross validation grid search for k values"
   ]
  },
  {
   "cell_type": "code",
   "execution_count": 24,
   "id": "43d9db1f",
   "metadata": {},
   "outputs": [
    {
     "data": {
      "text/plain": [
       "dict_keys(['algorithm', 'leaf_size', 'metric', 'metric_params', 'n_jobs', 'n_neighbors', 'p', 'weights'])"
      ]
     },
     "execution_count": 24,
     "metadata": {},
     "output_type": "execute_result"
    }
   ],
   "source": [
    "scaler = StandardScaler()\n",
    "knn = KNeighborsClassifier()\n",
    "knn.get_params().keys()"
   ]
  },
  {
   "cell_type": "code",
   "execution_count": 25,
   "id": "568318d9",
   "metadata": {},
   "outputs": [],
   "source": [
    "operation = [('scaler',scaler),('knn',knn)]"
   ]
  },
  {
   "cell_type": "code",
   "execution_count": 26,
   "id": "e0d926c5",
   "metadata": {},
   "outputs": [],
   "source": [
    "from sklearn.pipeline import Pipeline\n",
    "pipe = Pipeline(operation)"
   ]
  },
  {
   "cell_type": "code",
   "execution_count": 27,
   "id": "199c2d24",
   "metadata": {},
   "outputs": [],
   "source": [
    "from sklearn.model_selection import GridSearchCV"
   ]
  },
  {
   "cell_type": "code",
   "execution_count": 28,
   "id": "f6c361c1",
   "metadata": {},
   "outputs": [
    {
     "data": {
      "text/plain": [
       "[1, 2, 3, 4, 5, 6, 7, 8, 9, 10, 11, 12, 13, 14, 15, 16, 17, 18, 19]"
      ]
     },
     "execution_count": 28,
     "metadata": {},
     "output_type": "execute_result"
    }
   ],
   "source": [
    "k_values = list(range(1,20))\n",
    "k_values"
   ]
  },
  {
   "cell_type": "code",
   "execution_count": 29,
   "id": "c8d45151",
   "metadata": {},
   "outputs": [
    {
     "data": {
      "text/plain": [
       "GridSearchCV(cv=11,\n",
       "             estimator=Pipeline(steps=[('scaler', StandardScaler()),\n",
       "                                       ('knn', KNeighborsClassifier())]),\n",
       "             param_grid={'knn__n_neighbors': [1, 2, 3, 4, 5, 6, 7, 8, 9, 10, 11,\n",
       "                                              12, 13, 14, 15, 16, 17, 18, 19]},\n",
       "             scoring='accuracy')"
      ]
     },
     "execution_count": 29,
     "metadata": {},
     "output_type": "execute_result"
    }
   ],
   "source": [
    "param_grid = {'knn__n_neighbors': k_values}\n",
    "full_cv_classifier = GridSearchCV(pipe,param_grid,cv = 11, scoring = 'accuracy' )\n",
    "full_cv_classifier.fit(X_train,y_train)"
   ]
  },
  {
   "cell_type": "code",
   "execution_count": 30,
   "id": "0a1dd749",
   "metadata": {},
   "outputs": [
    {
     "data": {
      "text/plain": [
       "{'memory': None,\n",
       " 'steps': [('scaler', StandardScaler()),\n",
       "  ('knn', KNeighborsClassifier(n_neighbors=10))],\n",
       " 'verbose': False,\n",
       " 'scaler': StandardScaler(),\n",
       " 'knn': KNeighborsClassifier(n_neighbors=10),\n",
       " 'scaler__copy': True,\n",
       " 'scaler__with_mean': True,\n",
       " 'scaler__with_std': True,\n",
       " 'knn__algorithm': 'auto',\n",
       " 'knn__leaf_size': 30,\n",
       " 'knn__metric': 'minkowski',\n",
       " 'knn__metric_params': None,\n",
       " 'knn__n_jobs': None,\n",
       " 'knn__n_neighbors': 10,\n",
       " 'knn__p': 2,\n",
       " 'knn__weights': 'uniform'}"
      ]
     },
     "execution_count": 30,
     "metadata": {},
     "output_type": "execute_result"
    }
   ],
   "source": [
    "full_cv_classifier.best_estimator_.get_params()"
   ]
  },
  {
   "cell_type": "markdown",
   "id": "83c207db",
   "metadata": {},
   "source": [
    "# Optimal value for k is 6 from the above method so we can bulid the model according to this"
   ]
  },
  {
   "cell_type": "code",
   "execution_count": 31,
   "id": "c4e70333",
   "metadata": {},
   "outputs": [],
   "source": [
    "scaler = StandardScaler()\n",
    "knn10 = KNeighborsClassifier(n_neighbors = 10)\n",
    "operation = [('scaler',scaler),('knn10',knn10)]"
   ]
  },
  {
   "cell_type": "code",
   "execution_count": 32,
   "id": "649041ba",
   "metadata": {},
   "outputs": [
    {
     "data": {
      "text/plain": [
       "Pipeline(steps=[('scaler', StandardScaler()),\n",
       "                ('knn10', KNeighborsClassifier(n_neighbors=10))])"
      ]
     },
     "execution_count": 32,
     "metadata": {},
     "output_type": "execute_result"
    }
   ],
   "source": [
    "pipe = Pipeline(operation)\n",
    "pipe.fit(X_train,y_train)"
   ]
  },
  {
   "cell_type": "code",
   "execution_count": 33,
   "id": "6c6f1340",
   "metadata": {},
   "outputs": [],
   "source": [
    "y_pred_knn = knn10.predict(scaled_x_test)"
   ]
  },
  {
   "cell_type": "markdown",
   "id": "d1e4a72f",
   "metadata": {},
   "source": [
    "# Model Evaluation"
   ]
  },
  {
   "cell_type": "code",
   "execution_count": 34,
   "id": "3c5158ff",
   "metadata": {},
   "outputs": [
    {
     "name": "stdout",
     "output_type": "stream",
     "text": [
      "              precision    recall  f1-score   support\n",
      "\n",
      "           0       0.80      0.97      0.88      4573\n",
      "           1       0.38      0.32      0.35       136\n",
      "           2       0.00      0.00      0.00         2\n",
      "           3       0.00      0.00      0.00         2\n",
      "           4       0.00      0.00      0.00         5\n",
      "           5       0.00      0.00      0.00         1\n",
      "           6       0.00      0.00      0.00         1\n",
      "           7       0.00      0.00      0.00         1\n",
      "           8       0.00      0.00      0.00        66\n",
      "           9       0.00      0.00      0.00         5\n",
      "          10       0.00      0.00      0.00         2\n",
      "          11       0.00      0.00      0.00         2\n",
      "          12       0.00      0.00      0.00        33\n",
      "          13       0.00      0.00      0.00         2\n",
      "          14       0.39      0.14      0.21       790\n",
      "          15       0.00      0.00      0.00       151\n",
      "          16       0.00      0.00      0.00        30\n",
      "          17       0.00      0.00      0.00         4\n",
      "          18       0.00      0.00      0.00         1\n",
      "          19       0.00      0.00      0.00         1\n",
      "          20       0.00      0.00      0.00       110\n",
      "          21       0.00      0.00      0.00        17\n",
      "          22       0.00      0.00      0.00         1\n",
      "\n",
      "    accuracy                           0.77      5936\n",
      "   macro avg       0.07      0.06      0.06      5936\n",
      "weighted avg       0.68      0.77      0.71      5936\n",
      "\n"
     ]
    }
   ],
   "source": [
    "print(classification_report(y_test,y_pred_knn))"
   ]
  },
  {
   "cell_type": "code",
   "execution_count": 35,
   "id": "aba50531",
   "metadata": {},
   "outputs": [
    {
     "data": {
      "text/plain": [
       "array([[4420,   26,    0,    0,    0,    0,    0,    0,    0,    0,    0,\n",
       "           0,    1,    0,  126,    0,    0,    0,    0,    0,    0,    0,\n",
       "           0],\n",
       "       [  81,   44,    0,    0,    0,    0,    0,    0,    0,    0,    0,\n",
       "           0,    0,    0,   11,    0,    0,    0,    0,    0,    0,    0,\n",
       "           0],\n",
       "       [   2,    0,    0,    0,    0,    0,    0,    0,    0,    0,    0,\n",
       "           0,    0,    0,    0,    0,    0,    0,    0,    0,    0,    0,\n",
       "           0],\n",
       "       [   1,    1,    0,    0,    0,    0,    0,    0,    0,    0,    0,\n",
       "           0,    0,    0,    0,    0,    0,    0,    0,    0,    0,    0,\n",
       "           0],\n",
       "       [   4,    0,    0,    0,    0,    0,    0,    0,    0,    0,    0,\n",
       "           0,    0,    0,    1,    0,    0,    0,    0,    0,    0,    0,\n",
       "           0],\n",
       "       [   1,    0,    0,    0,    0,    0,    0,    0,    0,    0,    0,\n",
       "           0,    0,    0,    0,    0,    0,    0,    0,    0,    0,    0,\n",
       "           0],\n",
       "       [   1,    0,    0,    0,    0,    0,    0,    0,    0,    0,    0,\n",
       "           0,    0,    0,    0,    0,    0,    0,    0,    0,    0,    0,\n",
       "           0],\n",
       "       [   1,    0,    0,    0,    0,    0,    0,    0,    0,    0,    0,\n",
       "           0,    0,    0,    0,    0,    0,    0,    0,    0,    0,    0,\n",
       "           0],\n",
       "       [  61,    3,    0,    0,    0,    0,    0,    0,    0,    0,    0,\n",
       "           0,    0,    0,    2,    0,    0,    0,    0,    0,    0,    0,\n",
       "           0],\n",
       "       [   5,    0,    0,    0,    0,    0,    0,    0,    0,    0,    0,\n",
       "           0,    0,    0,    0,    0,    0,    0,    0,    0,    0,    0,\n",
       "           0],\n",
       "       [   2,    0,    0,    0,    0,    0,    0,    0,    0,    0,    0,\n",
       "           0,    0,    0,    0,    0,    0,    0,    0,    0,    0,    0,\n",
       "           0],\n",
       "       [   1,    0,    0,    0,    0,    0,    0,    0,    0,    0,    0,\n",
       "           0,    0,    0,    1,    0,    0,    0,    0,    0,    0,    0,\n",
       "           0],\n",
       "       [  21,    4,    0,    0,    0,    0,    0,    0,    0,    0,    0,\n",
       "           0,    0,    0,    8,    0,    0,    0,    0,    0,    0,    0,\n",
       "           0],\n",
       "       [   2,    0,    0,    0,    0,    0,    0,    0,    0,    0,    0,\n",
       "           0,    0,    0,    0,    0,    0,    0,    0,    0,    0,    0,\n",
       "           0],\n",
       "       [ 651,   24,    0,    0,    0,    0,    0,    0,    0,    0,    0,\n",
       "           0,    2,    0,  113,    0,    0,    0,    0,    0,    0,    0,\n",
       "           0],\n",
       "       [ 140,    3,    0,    0,    0,    0,    0,    0,    0,    0,    0,\n",
       "           0,    0,    0,    8,    0,    0,    0,    0,    0,    0,    0,\n",
       "           0],\n",
       "       [  26,    2,    0,    0,    0,    0,    0,    0,    0,    0,    0,\n",
       "           0,    0,    0,    2,    0,    0,    0,    0,    0,    0,    0,\n",
       "           0],\n",
       "       [   4,    0,    0,    0,    0,    0,    0,    0,    0,    0,    0,\n",
       "           0,    0,    0,    0,    0,    0,    0,    0,    0,    0,    0,\n",
       "           0],\n",
       "       [   0,    0,    0,    0,    0,    0,    0,    0,    0,    0,    0,\n",
       "           0,    0,    0,    1,    0,    0,    0,    0,    0,    0,    0,\n",
       "           0],\n",
       "       [   1,    0,    0,    0,    0,    0,    0,    0,    0,    0,    0,\n",
       "           0,    0,    0,    0,    0,    0,    0,    0,    0,    0,    0,\n",
       "           0],\n",
       "       [  92,    9,    0,    0,    0,    0,    0,    0,    0,    0,    0,\n",
       "           0,    0,    0,    9,    0,    0,    0,    0,    0,    0,    0,\n",
       "           0],\n",
       "       [  10,    0,    0,    0,    0,    0,    0,    0,    0,    0,    0,\n",
       "           0,    0,    0,    7,    0,    0,    0,    0,    0,    0,    0,\n",
       "           0],\n",
       "       [   1,    0,    0,    0,    0,    0,    0,    0,    0,    0,    0,\n",
       "           0,    0,    0,    0,    0,    0,    0,    0,    0,    0,    0,\n",
       "           0]], dtype=int64)"
      ]
     },
     "execution_count": 35,
     "metadata": {},
     "output_type": "execute_result"
    }
   ],
   "source": [
    "conf_mat = confusion_matrix(y_test,y_pred_knn)\n",
    "conf_mat"
   ]
  },
  {
   "cell_type": "code",
   "execution_count": 36,
   "id": "0d424fe7",
   "metadata": {},
   "outputs": [
    {
     "name": "stdout",
     "output_type": "stream",
     "text": [
      "accuracy = 0.7710579514824798  precision = 0.77  recall = 0.77  f1 = 0.77\n"
     ]
    }
   ],
   "source": [
    "import sklearn\n",
    "acc = sklearn.metrics.accuracy_score(y_test, y_pred_knn)\n",
    "prec = round(sklearn.metrics.precision_score(y_test, y_pred_knn ,average= 'micro'),2)\n",
    "rec = round(sklearn.metrics.recall_score(y_test, y_pred_knn ,average= 'micro'),2)\n",
    "f1 = round(sklearn.metrics.f1_score(y_test, y_pred_knn,average='micro'),2)\n",
    "print('accuracy =',acc, ' precision =', prec, ' recall =', rec, ' f1 =',f1)"
   ]
  },
  {
   "cell_type": "code",
   "execution_count": 37,
   "id": "94bb97a9",
   "metadata": {},
   "outputs": [
    {
     "data": {
      "text/html": [
       "<div>\n",
       "<style scoped>\n",
       "    .dataframe tbody tr th:only-of-type {\n",
       "        vertical-align: middle;\n",
       "    }\n",
       "\n",
       "    .dataframe tbody tr th {\n",
       "        vertical-align: top;\n",
       "    }\n",
       "\n",
       "    .dataframe thead th {\n",
       "        text-align: right;\n",
       "    }\n",
       "</style>\n",
       "<table border=\"1\" class=\"dataframe\">\n",
       "  <thead>\n",
       "    <tr style=\"text-align: right;\">\n",
       "      <th></th>\n",
       "      <th>Actual</th>\n",
       "      <th>Predicted</th>\n",
       "    </tr>\n",
       "  </thead>\n",
       "  <tbody>\n",
       "    <tr>\n",
       "      <th>1175</th>\n",
       "      <td>0</td>\n",
       "      <td>0</td>\n",
       "    </tr>\n",
       "    <tr>\n",
       "      <th>2805</th>\n",
       "      <td>0</td>\n",
       "      <td>0</td>\n",
       "    </tr>\n",
       "    <tr>\n",
       "      <th>101</th>\n",
       "      <td>0</td>\n",
       "      <td>0</td>\n",
       "    </tr>\n",
       "    <tr>\n",
       "      <th>5078</th>\n",
       "      <td>0</td>\n",
       "      <td>0</td>\n",
       "    </tr>\n",
       "    <tr>\n",
       "      <th>6468</th>\n",
       "      <td>14</td>\n",
       "      <td>14</td>\n",
       "    </tr>\n",
       "    <tr>\n",
       "      <th>...</th>\n",
       "      <td>...</td>\n",
       "      <td>...</td>\n",
       "    </tr>\n",
       "    <tr>\n",
       "      <th>6912</th>\n",
       "      <td>0</td>\n",
       "      <td>0</td>\n",
       "    </tr>\n",
       "    <tr>\n",
       "      <th>5965</th>\n",
       "      <td>0</td>\n",
       "      <td>0</td>\n",
       "    </tr>\n",
       "    <tr>\n",
       "      <th>7155</th>\n",
       "      <td>14</td>\n",
       "      <td>0</td>\n",
       "    </tr>\n",
       "    <tr>\n",
       "      <th>5000</th>\n",
       "      <td>0</td>\n",
       "      <td>0</td>\n",
       "    </tr>\n",
       "    <tr>\n",
       "      <th>5853</th>\n",
       "      <td>0</td>\n",
       "      <td>0</td>\n",
       "    </tr>\n",
       "  </tbody>\n",
       "</table>\n",
       "<p>5936 rows × 2 columns</p>\n",
       "</div>"
      ],
      "text/plain": [
       "      Actual  Predicted\n",
       "1175       0          0\n",
       "2805       0          0\n",
       "101        0          0\n",
       "5078       0          0\n",
       "6468      14         14\n",
       "...      ...        ...\n",
       "6912       0          0\n",
       "5965       0          0\n",
       "7155      14          0\n",
       "5000       0          0\n",
       "5853       0          0\n",
       "\n",
       "[5936 rows x 2 columns]"
      ]
     },
     "execution_count": 37,
     "metadata": {},
     "output_type": "execute_result"
    }
   ],
   "source": [
    "pd.DataFrame({'Actual':y_test,'Predicted':y_pred_knn})"
   ]
  },
  {
   "cell_type": "markdown",
   "id": "087101c2",
   "metadata": {},
   "source": [
    "# Naive_bayes model"
   ]
  },
  {
   "cell_type": "code",
   "execution_count": 38,
   "id": "94ab933e",
   "metadata": {},
   "outputs": [],
   "source": [
    "from sklearn.naive_bayes import GaussianNB"
   ]
  },
  {
   "cell_type": "code",
   "execution_count": 39,
   "id": "980eae3d",
   "metadata": {},
   "outputs": [
    {
     "data": {
      "text/plain": [
       "GaussianNB()"
      ]
     },
     "execution_count": 39,
     "metadata": {},
     "output_type": "execute_result"
    }
   ],
   "source": [
    "gnb = GaussianNB()\n",
    "gnb.fit(X_train, y_train)"
   ]
  },
  {
   "cell_type": "code",
   "execution_count": 40,
   "id": "6f2dff9a",
   "metadata": {},
   "outputs": [],
   "source": [
    "y_pred_NB = gnb.predict(X_test)"
   ]
  },
  {
   "cell_type": "markdown",
   "id": "c64b01c1",
   "metadata": {},
   "source": [
    "# Model Evaluation"
   ]
  },
  {
   "cell_type": "code",
   "execution_count": 41,
   "id": "763fbf36",
   "metadata": {},
   "outputs": [
    {
     "name": "stdout",
     "output_type": "stream",
     "text": [
      "              precision    recall  f1-score   support\n",
      "\n",
      "           0       0.89      0.66      0.76      4573\n",
      "           1       0.37      0.15      0.21       136\n",
      "           2       0.00      0.00      0.00         2\n",
      "           3       0.00      0.00      0.00         2\n",
      "           4       1.00      0.40      0.57         5\n",
      "           5       0.00      0.00      0.00         1\n",
      "           6       0.00      0.00      0.00         1\n",
      "           7       0.00      0.00      0.00         1\n",
      "           8       0.00      0.00      0.00        66\n",
      "           9       0.00      0.00      0.00         5\n",
      "          10       0.00      0.00      0.00         2\n",
      "          11       0.00      0.00      0.00         2\n",
      "          12       0.01      0.67      0.02        33\n",
      "          13       0.00      0.00      0.00         2\n",
      "          14       0.13      0.04      0.06       790\n",
      "          15       0.17      0.01      0.01       151\n",
      "          16       0.00      0.00      0.00        30\n",
      "          17       0.00      0.00      0.00         4\n",
      "          18       0.00      0.00      0.00         1\n",
      "          19       0.00      0.00      0.00         1\n",
      "          20       0.00      0.00      0.00       110\n",
      "          21       0.00      0.00      0.00        17\n",
      "          22       0.00      0.00      0.00         1\n",
      "\n",
      "    accuracy                           0.52      5936\n",
      "   macro avg       0.11      0.08      0.07      5936\n",
      "weighted avg       0.72      0.52      0.60      5936\n",
      "\n"
     ]
    }
   ],
   "source": [
    "print(classification_report(y_test,y_pred_NB))"
   ]
  },
  {
   "cell_type": "code",
   "execution_count": 42,
   "id": "45841ca5",
   "metadata": {},
   "outputs": [
    {
     "data": {
      "text/plain": [
       "array([[3041,   14,    0,    0,    0,    0,  233,    0,    0,    0,    0,\n",
       "           0, 1115,    0,  134,    5,    0,   22,    0,    0,    0,    9,\n",
       "           0],\n",
       "       [  15,   20,    0,    0,    0,    0,    6,    0,    0,    0,    0,\n",
       "           0,   74,    0,   21,    0,    0,    0,    0,    0,    0,    0,\n",
       "           0],\n",
       "       [   1,    0,    0,    0,    0,    0,    0,    0,    0,    0,    0,\n",
       "           0,    1,    0,    0,    0,    0,    0,    0,    0,    0,    0,\n",
       "           0],\n",
       "       [   0,    1,    0,    0,    0,    0,    0,    0,    0,    0,    0,\n",
       "           0,    0,    0,    1,    0,    0,    0,    0,    0,    0,    0,\n",
       "           0],\n",
       "       [   0,    0,    0,    0,    2,    0,    0,    0,    0,    0,    0,\n",
       "           0,    2,    0,    0,    0,    0,    0,    0,    0,    0,    1,\n",
       "           0],\n",
       "       [   1,    0,    0,    0,    0,    0,    0,    0,    0,    0,    0,\n",
       "           0,    0,    0,    0,    0,    0,    0,    0,    0,    0,    0,\n",
       "           0],\n",
       "       [   0,    0,    0,    0,    0,    0,    0,    0,    0,    0,    0,\n",
       "           0,    1,    0,    0,    0,    0,    0,    0,    0,    0,    0,\n",
       "           0],\n",
       "       [   1,    0,    0,    0,    0,    0,    0,    0,    0,    0,    0,\n",
       "           0,    0,    0,    0,    0,    0,    0,    0,    0,    0,    0,\n",
       "           0],\n",
       "       [  43,    0,    0,    0,    0,    0,    2,    0,    0,    0,    0,\n",
       "           0,   14,    0,    5,    0,    0,    1,    0,    0,    0,    1,\n",
       "           0],\n",
       "       [   0,    0,    0,    0,    0,    0,    0,    0,    0,    0,    0,\n",
       "           0,    2,    0,    3,    0,    0,    0,    0,    0,    0,    0,\n",
       "           0],\n",
       "       [   1,    0,    0,    0,    0,    0,    0,    0,    0,    0,    0,\n",
       "           0,    0,    0,    1,    0,    0,    0,    0,    0,    0,    0,\n",
       "           0],\n",
       "       [   1,    0,    0,    0,    0,    0,    0,    0,    0,    0,    0,\n",
       "           0,    1,    0,    0,    0,    0,    0,    0,    0,    0,    0,\n",
       "           0],\n",
       "       [   7,    1,    0,    0,    0,    0,    0,    0,    0,    0,    0,\n",
       "           0,   22,    0,    3,    0,    0,    0,    0,    0,    0,    0,\n",
       "           0],\n",
       "       [   0,    0,    0,    0,    0,    0,    0,    0,    0,    0,    0,\n",
       "           0,    0,    0,    2,    0,    0,    0,    0,    0,    0,    0,\n",
       "           0],\n",
       "       [ 169,   11,    0,    1,    0,    0,  130,    0,    0,    0,    0,\n",
       "           0,  440,    0,   28,    0,    0,    6,    0,    0,    0,    5,\n",
       "           0],\n",
       "       [  84,    1,    0,    0,    0,    0,   22,    0,    0,    0,    0,\n",
       "           0,   35,    0,    4,    1,    0,    3,    0,    0,    0,    1,\n",
       "           0],\n",
       "       [  15,    2,    0,    0,    0,    0,    0,    0,    0,    0,    0,\n",
       "           0,   11,    0,    2,    0,    0,    0,    0,    0,    0,    0,\n",
       "           0],\n",
       "       [   2,    0,    0,    0,    0,    0,    0,    0,    0,    0,    0,\n",
       "           0,    0,    0,    2,    0,    0,    0,    0,    0,    0,    0,\n",
       "           0],\n",
       "       [   0,    0,    0,    0,    0,    0,    1,    0,    0,    0,    0,\n",
       "           0,    0,    0,    0,    0,    0,    0,    0,    0,    0,    0,\n",
       "           0],\n",
       "       [   0,    0,    0,    0,    0,    0,    0,    0,    0,    0,    0,\n",
       "           0,    0,    0,    1,    0,    0,    0,    0,    0,    0,    0,\n",
       "           0],\n",
       "       [  21,    3,    0,    0,    0,    0,   16,    0,    0,    0,    0,\n",
       "           0,   66,    0,    2,    0,    0,    0,    0,    0,    0,    2,\n",
       "           0],\n",
       "       [   0,    1,    0,    0,    0,    0,    2,    0,    0,    0,    0,\n",
       "           0,   11,    0,    3,    0,    0,    0,    0,    0,    0,    0,\n",
       "           0],\n",
       "       [   0,    0,    0,    0,    0,    0,    0,    0,    0,    0,    0,\n",
       "           0,    1,    0,    0,    0,    0,    0,    0,    0,    0,    0,\n",
       "           0]], dtype=int64)"
      ]
     },
     "execution_count": 42,
     "metadata": {},
     "output_type": "execute_result"
    }
   ],
   "source": [
    "from sklearn.metrics import confusion_matrix\n",
    "cm = confusion_matrix(y_test, y_pred_NB)\n",
    "cm"
   ]
  },
  {
   "cell_type": "code",
   "execution_count": 43,
   "id": "305eff92",
   "metadata": {},
   "outputs": [
    {
     "name": "stdout",
     "output_type": "stream",
     "text": [
      "accuracy = 0.5245956873315364  precision = 0.52  recall = 0.52  f1 = 0.52\n"
     ]
    }
   ],
   "source": [
    "import sklearn\n",
    "acc = sklearn.metrics.accuracy_score(y_test, y_pred_NB)\n",
    "prec = round(sklearn.metrics.precision_score(y_test, y_pred_NB ,average= 'micro'),2)\n",
    "rec = round(sklearn.metrics.recall_score(y_test, y_pred_NB ,average= 'micro'),2)\n",
    "f1 = round(sklearn.metrics.f1_score(y_test, y_pred_NB,average='micro'),2)\n",
    "print('accuracy =',acc, ' precision =', prec, ' recall =', rec, ' f1 =',f1)"
   ]
  },
  {
   "cell_type": "code",
   "execution_count": 44,
   "id": "920651d4",
   "metadata": {},
   "outputs": [
    {
     "data": {
      "text/html": [
       "<div>\n",
       "<style scoped>\n",
       "    .dataframe tbody tr th:only-of-type {\n",
       "        vertical-align: middle;\n",
       "    }\n",
       "\n",
       "    .dataframe tbody tr th {\n",
       "        vertical-align: top;\n",
       "    }\n",
       "\n",
       "    .dataframe thead th {\n",
       "        text-align: right;\n",
       "    }\n",
       "</style>\n",
       "<table border=\"1\" class=\"dataframe\">\n",
       "  <thead>\n",
       "    <tr style=\"text-align: right;\">\n",
       "      <th></th>\n",
       "      <th>Actual</th>\n",
       "      <th>Predicted</th>\n",
       "    </tr>\n",
       "  </thead>\n",
       "  <tbody>\n",
       "    <tr>\n",
       "      <th>1175</th>\n",
       "      <td>0</td>\n",
       "      <td>0</td>\n",
       "    </tr>\n",
       "    <tr>\n",
       "      <th>2805</th>\n",
       "      <td>0</td>\n",
       "      <td>6</td>\n",
       "    </tr>\n",
       "    <tr>\n",
       "      <th>101</th>\n",
       "      <td>0</td>\n",
       "      <td>12</td>\n",
       "    </tr>\n",
       "    <tr>\n",
       "      <th>5078</th>\n",
       "      <td>0</td>\n",
       "      <td>0</td>\n",
       "    </tr>\n",
       "    <tr>\n",
       "      <th>6468</th>\n",
       "      <td>14</td>\n",
       "      <td>12</td>\n",
       "    </tr>\n",
       "    <tr>\n",
       "      <th>...</th>\n",
       "      <td>...</td>\n",
       "      <td>...</td>\n",
       "    </tr>\n",
       "    <tr>\n",
       "      <th>6912</th>\n",
       "      <td>0</td>\n",
       "      <td>0</td>\n",
       "    </tr>\n",
       "    <tr>\n",
       "      <th>5965</th>\n",
       "      <td>0</td>\n",
       "      <td>12</td>\n",
       "    </tr>\n",
       "    <tr>\n",
       "      <th>7155</th>\n",
       "      <td>14</td>\n",
       "      <td>12</td>\n",
       "    </tr>\n",
       "    <tr>\n",
       "      <th>5000</th>\n",
       "      <td>0</td>\n",
       "      <td>12</td>\n",
       "    </tr>\n",
       "    <tr>\n",
       "      <th>5853</th>\n",
       "      <td>0</td>\n",
       "      <td>0</td>\n",
       "    </tr>\n",
       "  </tbody>\n",
       "</table>\n",
       "<p>5936 rows × 2 columns</p>\n",
       "</div>"
      ],
      "text/plain": [
       "      Actual  Predicted\n",
       "1175       0          0\n",
       "2805       0          6\n",
       "101        0         12\n",
       "5078       0          0\n",
       "6468      14         12\n",
       "...      ...        ...\n",
       "6912       0          0\n",
       "5965       0         12\n",
       "7155      14         12\n",
       "5000       0         12\n",
       "5853       0          0\n",
       "\n",
       "[5936 rows x 2 columns]"
      ]
     },
     "execution_count": 44,
     "metadata": {},
     "output_type": "execute_result"
    }
   ],
   "source": [
    "pd.DataFrame({'Actual':y_test,'Predicted':y_pred_NB})"
   ]
  },
  {
   "cell_type": "markdown",
   "id": "823cdf08",
   "metadata": {},
   "source": [
    "# Logistic Regression"
   ]
  },
  {
   "cell_type": "code",
   "execution_count": 45,
   "id": "33801ff8",
   "metadata": {},
   "outputs": [
    {
     "data": {
      "text/plain": [
       "LogisticRegression()"
      ]
     },
     "execution_count": 45,
     "metadata": {},
     "output_type": "execute_result"
    }
   ],
   "source": [
    "from sklearn.linear_model import LogisticRegression\n",
    "logreg = LogisticRegression()\n",
    "logreg.fit(X_train, y_train)"
   ]
  },
  {
   "cell_type": "code",
   "execution_count": 46,
   "id": "55387e79",
   "metadata": {},
   "outputs": [],
   "source": [
    "y_pred_l = logreg.predict(X_test)"
   ]
  },
  {
   "cell_type": "markdown",
   "id": "29a5b994",
   "metadata": {},
   "source": [
    "# Model Evaluation"
   ]
  },
  {
   "cell_type": "code",
   "execution_count": 47,
   "id": "1f98b6fe",
   "metadata": {},
   "outputs": [
    {
     "name": "stdout",
     "output_type": "stream",
     "text": [
      "              precision    recall  f1-score   support\n",
      "\n",
      "           0       0.78      0.98      0.87      4573\n",
      "           1       0.00      0.00      0.00       136\n",
      "           2       0.00      0.00      0.00         2\n",
      "           3       0.00      0.00      0.00         2\n",
      "           4       0.00      0.00      0.00         5\n",
      "           5       0.00      0.00      0.00         1\n",
      "           6       0.00      0.00      0.00         1\n",
      "           7       0.00      0.00      0.00         1\n",
      "           8       0.00      0.00      0.00        66\n",
      "           9       0.00      0.00      0.00         5\n",
      "          10       0.00      0.00      0.00         2\n",
      "          11       0.00      0.00      0.00         2\n",
      "          12       0.00      0.00      0.00        33\n",
      "          13       0.00      0.00      0.00         2\n",
      "          14       0.26      0.06      0.10       790\n",
      "          15       0.00      0.00      0.00       151\n",
      "          16       0.00      0.00      0.00        30\n",
      "          17       0.00      0.00      0.00         4\n",
      "          18       0.00      0.00      0.00         1\n",
      "          19       0.00      0.00      0.00         1\n",
      "          20       0.00      0.00      0.00       110\n",
      "          21       0.00      0.00      0.00        17\n",
      "          22       0.00      0.00      0.00         1\n",
      "\n",
      "    accuracy                           0.76      5936\n",
      "   macro avg       0.05      0.05      0.04      5936\n",
      "weighted avg       0.63      0.76      0.68      5936\n",
      "\n"
     ]
    }
   ],
   "source": [
    "print(classification_report(y_test,y_pred_l))"
   ]
  },
  {
   "cell_type": "code",
   "execution_count": 48,
   "id": "798b829e",
   "metadata": {},
   "outputs": [
    {
     "data": {
      "text/plain": [
       "array([[4467,    0,    0,    0,    4,    0,    0,    0,    0,    0,    0,\n",
       "           0,    0,    0,   94,    8,    0,    0,    0,    0,    0,    0,\n",
       "           0],\n",
       "       [ 129,    0,    0,    0,    0,    0,    0,    0,    0,    0,    0,\n",
       "           0,    0,    0,    7,    0,    0,    0,    0,    0,    0,    0,\n",
       "           0],\n",
       "       [   2,    0,    0,    0,    0,    0,    0,    0,    0,    0,    0,\n",
       "           0,    0,    0,    0,    0,    0,    0,    0,    0,    0,    0,\n",
       "           0],\n",
       "       [   2,    0,    0,    0,    0,    0,    0,    0,    0,    0,    0,\n",
       "           0,    0,    0,    0,    0,    0,    0,    0,    0,    0,    0,\n",
       "           0],\n",
       "       [   4,    0,    0,    0,    0,    0,    0,    0,    0,    0,    0,\n",
       "           0,    0,    0,    1,    0,    0,    0,    0,    0,    0,    0,\n",
       "           0],\n",
       "       [   1,    0,    0,    0,    0,    0,    0,    0,    0,    0,    0,\n",
       "           0,    0,    0,    0,    0,    0,    0,    0,    0,    0,    0,\n",
       "           0],\n",
       "       [   1,    0,    0,    0,    0,    0,    0,    0,    0,    0,    0,\n",
       "           0,    0,    0,    0,    0,    0,    0,    0,    0,    0,    0,\n",
       "           0],\n",
       "       [   1,    0,    0,    0,    0,    0,    0,    0,    0,    0,    0,\n",
       "           0,    0,    0,    0,    0,    0,    0,    0,    0,    0,    0,\n",
       "           0],\n",
       "       [  64,    0,    0,    0,    0,    0,    0,    0,    0,    0,    0,\n",
       "           0,    0,    0,    2,    0,    0,    0,    0,    0,    0,    0,\n",
       "           0],\n",
       "       [   2,    0,    0,    0,    0,    0,    0,    0,    0,    0,    0,\n",
       "           0,    0,    0,    3,    0,    0,    0,    0,    0,    0,    0,\n",
       "           0],\n",
       "       [   2,    0,    0,    0,    0,    0,    0,    0,    0,    0,    0,\n",
       "           0,    0,    0,    0,    0,    0,    0,    0,    0,    0,    0,\n",
       "           0],\n",
       "       [   2,    0,    0,    0,    0,    0,    0,    0,    0,    0,    0,\n",
       "           0,    0,    0,    0,    0,    0,    0,    0,    0,    0,    0,\n",
       "           0],\n",
       "       [  32,    0,    0,    0,    0,    0,    0,    0,    0,    0,    0,\n",
       "           0,    0,    0,    1,    0,    0,    0,    0,    0,    0,    0,\n",
       "           0],\n",
       "       [   0,    0,    0,    0,    0,    0,    0,    0,    0,    0,    0,\n",
       "           0,    0,    0,    2,    0,    0,    0,    0,    0,    0,    0,\n",
       "           0],\n",
       "       [ 737,    0,    0,    0,    1,    0,    0,    0,    0,    0,    0,\n",
       "           0,    0,    0,   47,    5,    0,    0,    0,    0,    0,    0,\n",
       "           0],\n",
       "       [ 145,    0,    0,    0,    0,    0,    0,    0,    0,    0,    0,\n",
       "           0,    0,    0,    6,    0,    0,    0,    0,    0,    0,    0,\n",
       "           0],\n",
       "       [  28,    0,    0,    0,    0,    0,    0,    0,    0,    0,    0,\n",
       "           0,    0,    0,    2,    0,    0,    0,    0,    0,    0,    0,\n",
       "           0],\n",
       "       [   2,    0,    0,    0,    0,    0,    0,    0,    0,    0,    0,\n",
       "           0,    0,    0,    2,    0,    0,    0,    0,    0,    0,    0,\n",
       "           0],\n",
       "       [   0,    0,    0,    0,    0,    0,    0,    0,    0,    0,    0,\n",
       "           0,    0,    0,    1,    0,    0,    0,    0,    0,    0,    0,\n",
       "           0],\n",
       "       [   0,    0,    0,    0,    0,    0,    0,    0,    0,    0,    0,\n",
       "           0,    0,    0,    1,    0,    0,    0,    0,    0,    0,    0,\n",
       "           0],\n",
       "       [ 100,    0,    0,    0,    0,    0,    0,    0,    0,    0,    0,\n",
       "           0,    0,    0,    9,    1,    0,    0,    0,    0,    0,    0,\n",
       "           0],\n",
       "       [  15,    0,    0,    0,    0,    0,    0,    0,    0,    0,    0,\n",
       "           0,    0,    0,    2,    0,    0,    0,    0,    0,    0,    0,\n",
       "           0],\n",
       "       [   1,    0,    0,    0,    0,    0,    0,    0,    0,    0,    0,\n",
       "           0,    0,    0,    0,    0,    0,    0,    0,    0,    0,    0,\n",
       "           0]], dtype=int64)"
      ]
     },
     "execution_count": 48,
     "metadata": {},
     "output_type": "execute_result"
    }
   ],
   "source": [
    "cm = confusion_matrix(y_test, y_pred_l)\n",
    "cm"
   ]
  },
  {
   "cell_type": "code",
   "execution_count": 49,
   "id": "6cf55589",
   "metadata": {},
   "outputs": [
    {
     "name": "stdout",
     "output_type": "stream",
     "text": [
      "accuracy = 0.7604447439353099  precision = 0.76  recall = 0.76  f1 = 0.76\n"
     ]
    }
   ],
   "source": [
    "import sklearn\n",
    "acc = sklearn.metrics.accuracy_score(y_test, y_pred_l)\n",
    "prec = round(sklearn.metrics.precision_score(y_test, y_pred_l ,average= 'micro'),2)\n",
    "rec = round(sklearn.metrics.recall_score(y_test, y_pred_l ,average= 'micro'),2)\n",
    "f1 = round(sklearn.metrics.f1_score(y_test, y_pred_l,average='micro'),2)\n",
    "print('accuracy =',acc, ' precision =', prec, ' recall =', rec, ' f1 =',f1)"
   ]
  },
  {
   "cell_type": "code",
   "execution_count": 50,
   "id": "d5fd54b5",
   "metadata": {},
   "outputs": [
    {
     "data": {
      "text/html": [
       "<div>\n",
       "<style scoped>\n",
       "    .dataframe tbody tr th:only-of-type {\n",
       "        vertical-align: middle;\n",
       "    }\n",
       "\n",
       "    .dataframe tbody tr th {\n",
       "        vertical-align: top;\n",
       "    }\n",
       "\n",
       "    .dataframe thead th {\n",
       "        text-align: right;\n",
       "    }\n",
       "</style>\n",
       "<table border=\"1\" class=\"dataframe\">\n",
       "  <thead>\n",
       "    <tr style=\"text-align: right;\">\n",
       "      <th></th>\n",
       "      <th>Actual</th>\n",
       "      <th>Predicted</th>\n",
       "    </tr>\n",
       "  </thead>\n",
       "  <tbody>\n",
       "    <tr>\n",
       "      <th>1175</th>\n",
       "      <td>0</td>\n",
       "      <td>0</td>\n",
       "    </tr>\n",
       "    <tr>\n",
       "      <th>2805</th>\n",
       "      <td>0</td>\n",
       "      <td>0</td>\n",
       "    </tr>\n",
       "    <tr>\n",
       "      <th>101</th>\n",
       "      <td>0</td>\n",
       "      <td>0</td>\n",
       "    </tr>\n",
       "    <tr>\n",
       "      <th>5078</th>\n",
       "      <td>0</td>\n",
       "      <td>0</td>\n",
       "    </tr>\n",
       "    <tr>\n",
       "      <th>6468</th>\n",
       "      <td>14</td>\n",
       "      <td>0</td>\n",
       "    </tr>\n",
       "    <tr>\n",
       "      <th>...</th>\n",
       "      <td>...</td>\n",
       "      <td>...</td>\n",
       "    </tr>\n",
       "    <tr>\n",
       "      <th>6912</th>\n",
       "      <td>0</td>\n",
       "      <td>0</td>\n",
       "    </tr>\n",
       "    <tr>\n",
       "      <th>5965</th>\n",
       "      <td>0</td>\n",
       "      <td>0</td>\n",
       "    </tr>\n",
       "    <tr>\n",
       "      <th>7155</th>\n",
       "      <td>14</td>\n",
       "      <td>0</td>\n",
       "    </tr>\n",
       "    <tr>\n",
       "      <th>5000</th>\n",
       "      <td>0</td>\n",
       "      <td>0</td>\n",
       "    </tr>\n",
       "    <tr>\n",
       "      <th>5853</th>\n",
       "      <td>0</td>\n",
       "      <td>0</td>\n",
       "    </tr>\n",
       "  </tbody>\n",
       "</table>\n",
       "<p>5936 rows × 2 columns</p>\n",
       "</div>"
      ],
      "text/plain": [
       "      Actual  Predicted\n",
       "1175       0          0\n",
       "2805       0          0\n",
       "101        0          0\n",
       "5078       0          0\n",
       "6468      14          0\n",
       "...      ...        ...\n",
       "6912       0          0\n",
       "5965       0          0\n",
       "7155      14          0\n",
       "5000       0          0\n",
       "5853       0          0\n",
       "\n",
       "[5936 rows x 2 columns]"
      ]
     },
     "execution_count": 50,
     "metadata": {},
     "output_type": "execute_result"
    }
   ],
   "source": [
    "pd.DataFrame({'Actual':y_test,'Predicted':y_pred_l})"
   ]
  },
  {
   "cell_type": "markdown",
   "id": "86f8c01c",
   "metadata": {},
   "source": [
    "# Random Forest Classifier"
   ]
  },
  {
   "cell_type": "code",
   "execution_count": 51,
   "id": "d745049b",
   "metadata": {},
   "outputs": [],
   "source": [
    "from sklearn.ensemble import RandomForestClassifier\n",
    "from sklearn.metrics import accuracy_score"
   ]
  },
  {
   "cell_type": "code",
   "execution_count": 52,
   "id": "7d41348a",
   "metadata": {},
   "outputs": [],
   "source": [
    "rf = RandomForestClassifier(random_state=42)      \n",
    "rf = rf.fit(X_train,y_train)\n",
    "y_pred_RF=rf.predict(X_test)"
   ]
  },
  {
   "cell_type": "markdown",
   "id": "5ce306df",
   "metadata": {},
   "source": [
    "# Model Evaluation"
   ]
  },
  {
   "cell_type": "code",
   "execution_count": 53,
   "id": "8f9dd157",
   "metadata": {},
   "outputs": [
    {
     "name": "stdout",
     "output_type": "stream",
     "text": [
      "              precision    recall  f1-score   support\n",
      "\n",
      "           0       0.81      0.91      0.86      4573\n",
      "           1       0.26      0.34      0.30       136\n",
      "           2       0.00      0.00      0.00         2\n",
      "           3       0.00      0.00      0.00         2\n",
      "           4       0.00      0.00      0.00         5\n",
      "           5       0.00      0.00      0.00         1\n",
      "           6       0.00      0.00      0.00         1\n",
      "           7       0.00      0.00      0.00         1\n",
      "           8       0.19      0.05      0.07        66\n",
      "           9       0.00      0.00      0.00         5\n",
      "          10       0.00      0.00      0.00         2\n",
      "          11       0.00      0.00      0.00         2\n",
      "          12       0.00      0.00      0.00        33\n",
      "          13       0.00      0.00      0.00         2\n",
      "          14       0.34      0.22      0.27       790\n",
      "          15       0.00      0.00      0.00       151\n",
      "          16       0.00      0.00      0.00        30\n",
      "          17       0.00      0.00      0.00         4\n",
      "          18       0.00      0.00      0.00         1\n",
      "          19       0.00      0.00      0.00         1\n",
      "          20       0.09      0.04      0.05       110\n",
      "          21       0.33      0.06      0.10        17\n",
      "          22       0.00      0.00      0.00         1\n",
      "\n",
      "    accuracy                           0.74      5936\n",
      "   macro avg       0.09      0.07      0.07      5936\n",
      "weighted avg       0.68      0.74      0.71      5936\n",
      "\n"
     ]
    }
   ],
   "source": [
    "print(classification_report(y_test,y_pred_RF))"
   ]
  },
  {
   "cell_type": "code",
   "execution_count": 54,
   "id": "77acde3c",
   "metadata": {},
   "outputs": [
    {
     "data": {
      "text/plain": [
       "array([[4164,   69,    0,    1,    0,    0,    0,    0,    5,    0,    0,\n",
       "           0,   11,    0,  267,   32,    1,    0,    0,    0,   21,    2,\n",
       "           0],\n",
       "       [  64,   46,    0,    1,    0,    0,    0,    0,    4,    0,    0,\n",
       "           0,    1,    0,   15,    0,    0,    0,    0,    0,    5,    0,\n",
       "           0],\n",
       "       [   2,    0,    0,    0,    0,    0,    0,    0,    0,    0,    0,\n",
       "           0,    0,    0,    0,    0,    0,    0,    0,    0,    0,    0,\n",
       "           0],\n",
       "       [   2,    0,    0,    0,    0,    0,    0,    0,    0,    0,    0,\n",
       "           0,    0,    0,    0,    0,    0,    0,    0,    0,    0,    0,\n",
       "           0],\n",
       "       [   3,    0,    0,    0,    0,    0,    0,    0,    0,    0,    0,\n",
       "           0,    0,    0,    2,    0,    0,    0,    0,    0,    0,    0,\n",
       "           0],\n",
       "       [   1,    0,    0,    0,    0,    0,    0,    0,    0,    0,    0,\n",
       "           0,    0,    0,    0,    0,    0,    0,    0,    0,    0,    0,\n",
       "           0],\n",
       "       [   0,    1,    0,    0,    0,    0,    0,    0,    0,    0,    0,\n",
       "           0,    0,    0,    0,    0,    0,    0,    0,    0,    0,    0,\n",
       "           0],\n",
       "       [   1,    0,    0,    0,    0,    0,    0,    0,    0,    0,    0,\n",
       "           0,    0,    0,    0,    0,    0,    0,    0,    0,    0,    0,\n",
       "           0],\n",
       "       [  55,    4,    0,    0,    0,    0,    0,    0,    3,    0,    0,\n",
       "           0,    0,    0,    4,    0,    0,    0,    0,    0,    0,    0,\n",
       "           0],\n",
       "       [   3,    0,    0,    0,    0,    0,    0,    0,    0,    0,    0,\n",
       "           0,    0,    0,    2,    0,    0,    0,    0,    0,    0,    0,\n",
       "           0],\n",
       "       [   2,    0,    0,    0,    0,    0,    0,    0,    0,    0,    0,\n",
       "           0,    0,    0,    0,    0,    0,    0,    0,    0,    0,    0,\n",
       "           0],\n",
       "       [   1,    0,    0,    0,    0,    0,    0,    0,    0,    0,    0,\n",
       "           0,    0,    0,    1,    0,    0,    0,    0,    0,    0,    0,\n",
       "           0],\n",
       "       [  20,    4,    0,    0,    0,    0,    0,    0,    0,    0,    0,\n",
       "           0,    0,    0,    9,    0,    0,    0,    0,    0,    0,    0,\n",
       "           0],\n",
       "       [   0,    0,    0,    0,    0,    0,    0,    0,    0,    0,    0,\n",
       "           0,    0,    0,    2,    0,    0,    0,    0,    0,    0,    0,\n",
       "           0],\n",
       "       [ 548,   37,    0,    1,    0,    0,    0,    0,    3,    0,    0,\n",
       "           0,    8,    0,  176,    4,    1,    0,    0,    0,   12,    0,\n",
       "           0],\n",
       "       [ 131,    4,    0,    0,    0,    0,    0,    0,    0,    0,    0,\n",
       "           0,    0,    0,   14,    0,    0,    0,    0,    0,    2,    0,\n",
       "           0],\n",
       "       [  24,    1,    0,    0,    0,    0,    0,    0,    0,    0,    0,\n",
       "           0,    0,    0,    4,    0,    0,    0,    0,    0,    1,    0,\n",
       "           0],\n",
       "       [   3,    0,    0,    0,    0,    0,    0,    0,    0,    0,    0,\n",
       "           0,    0,    0,    1,    0,    0,    0,    0,    0,    0,    0,\n",
       "           0],\n",
       "       [   0,    0,    0,    0,    0,    0,    0,    0,    0,    0,    0,\n",
       "           0,    0,    0,    1,    0,    0,    0,    0,    0,    0,    0,\n",
       "           0],\n",
       "       [   1,    0,    0,    0,    0,    0,    0,    0,    0,    0,    0,\n",
       "           0,    0,    0,    0,    0,    0,    0,    0,    0,    0,    0,\n",
       "           0],\n",
       "       [  77,    8,    0,    0,    0,    0,    0,    0,    1,    0,    0,\n",
       "           0,    0,    0,   17,    2,    1,    0,    0,    0,    4,    0,\n",
       "           0],\n",
       "       [   9,    0,    0,    0,    0,    0,    0,    0,    0,    0,    0,\n",
       "           0,    0,    0,    6,    0,    0,    0,    0,    0,    1,    1,\n",
       "           0],\n",
       "       [   0,    0,    0,    0,    0,    0,    0,    0,    0,    0,    0,\n",
       "           0,    0,    0,    1,    0,    0,    0,    0,    0,    0,    0,\n",
       "           0]], dtype=int64)"
      ]
     },
     "execution_count": 54,
     "metadata": {},
     "output_type": "execute_result"
    }
   ],
   "source": [
    "cm = confusion_matrix(y_test, y_pred_RF)\n",
    "cm"
   ]
  },
  {
   "cell_type": "code",
   "execution_count": 55,
   "id": "8f047741",
   "metadata": {},
   "outputs": [
    {
     "name": "stdout",
     "output_type": "stream",
     "text": [
      "accuracy = 0.7402291105121294  precision = 0.74  recall = 0.74  f1 = 0.74\n"
     ]
    }
   ],
   "source": [
    "import sklearn\n",
    "acc = sklearn.metrics.accuracy_score(y_test, y_pred_RF)\n",
    "prec = round(sklearn.metrics.precision_score(y_test, y_pred_RF ,average= 'micro'),2)\n",
    "rec = round(sklearn.metrics.recall_score(y_test, y_pred_RF ,average= 'micro'),2)\n",
    "f1 = round(sklearn.metrics.f1_score(y_test, y_pred_RF,average='micro'),2)\n",
    "print('accuracy =',acc, ' precision =', prec, ' recall =', rec, ' f1 =',f1)"
   ]
  },
  {
   "cell_type": "code",
   "execution_count": 56,
   "id": "907883f4",
   "metadata": {},
   "outputs": [
    {
     "data": {
      "text/html": [
       "<div>\n",
       "<style scoped>\n",
       "    .dataframe tbody tr th:only-of-type {\n",
       "        vertical-align: middle;\n",
       "    }\n",
       "\n",
       "    .dataframe tbody tr th {\n",
       "        vertical-align: top;\n",
       "    }\n",
       "\n",
       "    .dataframe thead th {\n",
       "        text-align: right;\n",
       "    }\n",
       "</style>\n",
       "<table border=\"1\" class=\"dataframe\">\n",
       "  <thead>\n",
       "    <tr style=\"text-align: right;\">\n",
       "      <th></th>\n",
       "      <th>Actual</th>\n",
       "      <th>Predicted</th>\n",
       "    </tr>\n",
       "  </thead>\n",
       "  <tbody>\n",
       "    <tr>\n",
       "      <th>1175</th>\n",
       "      <td>0</td>\n",
       "      <td>0</td>\n",
       "    </tr>\n",
       "    <tr>\n",
       "      <th>2805</th>\n",
       "      <td>0</td>\n",
       "      <td>0</td>\n",
       "    </tr>\n",
       "    <tr>\n",
       "      <th>101</th>\n",
       "      <td>0</td>\n",
       "      <td>0</td>\n",
       "    </tr>\n",
       "    <tr>\n",
       "      <th>5078</th>\n",
       "      <td>0</td>\n",
       "      <td>0</td>\n",
       "    </tr>\n",
       "    <tr>\n",
       "      <th>6468</th>\n",
       "      <td>14</td>\n",
       "      <td>0</td>\n",
       "    </tr>\n",
       "    <tr>\n",
       "      <th>...</th>\n",
       "      <td>...</td>\n",
       "      <td>...</td>\n",
       "    </tr>\n",
       "    <tr>\n",
       "      <th>6912</th>\n",
       "      <td>0</td>\n",
       "      <td>0</td>\n",
       "    </tr>\n",
       "    <tr>\n",
       "      <th>5965</th>\n",
       "      <td>0</td>\n",
       "      <td>0</td>\n",
       "    </tr>\n",
       "    <tr>\n",
       "      <th>7155</th>\n",
       "      <td>14</td>\n",
       "      <td>1</td>\n",
       "    </tr>\n",
       "    <tr>\n",
       "      <th>5000</th>\n",
       "      <td>0</td>\n",
       "      <td>0</td>\n",
       "    </tr>\n",
       "    <tr>\n",
       "      <th>5853</th>\n",
       "      <td>0</td>\n",
       "      <td>0</td>\n",
       "    </tr>\n",
       "  </tbody>\n",
       "</table>\n",
       "<p>5936 rows × 2 columns</p>\n",
       "</div>"
      ],
      "text/plain": [
       "      Actual  Predicted\n",
       "1175       0          0\n",
       "2805       0          0\n",
       "101        0          0\n",
       "5078       0          0\n",
       "6468      14          0\n",
       "...      ...        ...\n",
       "6912       0          0\n",
       "5965       0          0\n",
       "7155      14          1\n",
       "5000       0          0\n",
       "5853       0          0\n",
       "\n",
       "[5936 rows x 2 columns]"
      ]
     },
     "execution_count": 56,
     "metadata": {},
     "output_type": "execute_result"
    }
   ],
   "source": [
    "pd.DataFrame({'Actual':y_test,'Predicted':y_pred_RF})"
   ]
  },
  {
   "cell_type": "code",
   "execution_count": 57,
   "id": "e1d99e65",
   "metadata": {},
   "outputs": [],
   "source": [
    "df_res = pd.DataFrame({'Actual':y_test,'Predicted_Knn':y_pred_knn,'Predicted_logistic':y_pred_l,'Predicted_NB':y_pred_NB,'Predicted_RF':y_pred_RF})"
   ]
  },
  {
   "cell_type": "code",
   "execution_count": 58,
   "id": "fadb1aa5",
   "metadata": {},
   "outputs": [
    {
     "data": {
      "text/html": [
       "<div>\n",
       "<style scoped>\n",
       "    .dataframe tbody tr th:only-of-type {\n",
       "        vertical-align: middle;\n",
       "    }\n",
       "\n",
       "    .dataframe tbody tr th {\n",
       "        vertical-align: top;\n",
       "    }\n",
       "\n",
       "    .dataframe thead th {\n",
       "        text-align: right;\n",
       "    }\n",
       "</style>\n",
       "<table border=\"1\" class=\"dataframe\">\n",
       "  <thead>\n",
       "    <tr style=\"text-align: right;\">\n",
       "      <th></th>\n",
       "      <th>Actual</th>\n",
       "      <th>Predicted_Knn</th>\n",
       "      <th>Predicted_logistic</th>\n",
       "      <th>Predicted_NB</th>\n",
       "      <th>Predicted_RF</th>\n",
       "    </tr>\n",
       "  </thead>\n",
       "  <tbody>\n",
       "    <tr>\n",
       "      <th>1175</th>\n",
       "      <td>0</td>\n",
       "      <td>0</td>\n",
       "      <td>0</td>\n",
       "      <td>0</td>\n",
       "      <td>0</td>\n",
       "    </tr>\n",
       "    <tr>\n",
       "      <th>2805</th>\n",
       "      <td>0</td>\n",
       "      <td>0</td>\n",
       "      <td>0</td>\n",
       "      <td>6</td>\n",
       "      <td>0</td>\n",
       "    </tr>\n",
       "    <tr>\n",
       "      <th>101</th>\n",
       "      <td>0</td>\n",
       "      <td>0</td>\n",
       "      <td>0</td>\n",
       "      <td>12</td>\n",
       "      <td>0</td>\n",
       "    </tr>\n",
       "    <tr>\n",
       "      <th>5078</th>\n",
       "      <td>0</td>\n",
       "      <td>0</td>\n",
       "      <td>0</td>\n",
       "      <td>0</td>\n",
       "      <td>0</td>\n",
       "    </tr>\n",
       "    <tr>\n",
       "      <th>6468</th>\n",
       "      <td>14</td>\n",
       "      <td>14</td>\n",
       "      <td>0</td>\n",
       "      <td>12</td>\n",
       "      <td>0</td>\n",
       "    </tr>\n",
       "    <tr>\n",
       "      <th>3872</th>\n",
       "      <td>14</td>\n",
       "      <td>0</td>\n",
       "      <td>0</td>\n",
       "      <td>12</td>\n",
       "      <td>14</td>\n",
       "    </tr>\n",
       "    <tr>\n",
       "      <th>4381</th>\n",
       "      <td>0</td>\n",
       "      <td>0</td>\n",
       "      <td>0</td>\n",
       "      <td>12</td>\n",
       "      <td>0</td>\n",
       "    </tr>\n",
       "    <tr>\n",
       "      <th>6111</th>\n",
       "      <td>14</td>\n",
       "      <td>0</td>\n",
       "      <td>0</td>\n",
       "      <td>6</td>\n",
       "      <td>0</td>\n",
       "    </tr>\n",
       "    <tr>\n",
       "      <th>2182</th>\n",
       "      <td>0</td>\n",
       "      <td>0</td>\n",
       "      <td>0</td>\n",
       "      <td>0</td>\n",
       "      <td>0</td>\n",
       "    </tr>\n",
       "    <tr>\n",
       "      <th>5121</th>\n",
       "      <td>0</td>\n",
       "      <td>0</td>\n",
       "      <td>0</td>\n",
       "      <td>0</td>\n",
       "      <td>0</td>\n",
       "    </tr>\n",
       "    <tr>\n",
       "      <th>5790</th>\n",
       "      <td>0</td>\n",
       "      <td>0</td>\n",
       "      <td>0</td>\n",
       "      <td>0</td>\n",
       "      <td>0</td>\n",
       "    </tr>\n",
       "    <tr>\n",
       "      <th>6527</th>\n",
       "      <td>0</td>\n",
       "      <td>0</td>\n",
       "      <td>0</td>\n",
       "      <td>0</td>\n",
       "      <td>0</td>\n",
       "    </tr>\n",
       "    <tr>\n",
       "      <th>2882</th>\n",
       "      <td>0</td>\n",
       "      <td>0</td>\n",
       "      <td>0</td>\n",
       "      <td>0</td>\n",
       "      <td>0</td>\n",
       "    </tr>\n",
       "    <tr>\n",
       "      <th>3944</th>\n",
       "      <td>0</td>\n",
       "      <td>0</td>\n",
       "      <td>0</td>\n",
       "      <td>12</td>\n",
       "      <td>14</td>\n",
       "    </tr>\n",
       "    <tr>\n",
       "      <th>2860</th>\n",
       "      <td>0</td>\n",
       "      <td>0</td>\n",
       "      <td>0</td>\n",
       "      <td>12</td>\n",
       "      <td>0</td>\n",
       "    </tr>\n",
       "  </tbody>\n",
       "</table>\n",
       "</div>"
      ],
      "text/plain": [
       "      Actual  Predicted_Knn  Predicted_logistic  Predicted_NB  Predicted_RF\n",
       "1175       0              0                   0             0             0\n",
       "2805       0              0                   0             6             0\n",
       "101        0              0                   0            12             0\n",
       "5078       0              0                   0             0             0\n",
       "6468      14             14                   0            12             0\n",
       "3872      14              0                   0            12            14\n",
       "4381       0              0                   0            12             0\n",
       "6111      14              0                   0             6             0\n",
       "2182       0              0                   0             0             0\n",
       "5121       0              0                   0             0             0\n",
       "5790       0              0                   0             0             0\n",
       "6527       0              0                   0             0             0\n",
       "2882       0              0                   0             0             0\n",
       "3944       0              0                   0            12            14\n",
       "2860       0              0                   0            12             0"
      ]
     },
     "execution_count": 58,
     "metadata": {},
     "output_type": "execute_result"
    }
   ],
   "source": [
    "df_res.head(15)"
   ]
  },
  {
   "cell_type": "code",
   "execution_count": null,
   "id": "3943823c",
   "metadata": {},
   "outputs": [],
   "source": []
  },
  {
   "cell_type": "code",
   "execution_count": null,
   "id": "e6066420",
   "metadata": {},
   "outputs": [],
   "source": []
  }
 ],
 "metadata": {
  "kernelspec": {
   "display_name": "Python 3 (ipykernel)",
   "language": "python",
   "name": "python3"
  },
  "language_info": {
   "codemirror_mode": {
    "name": "ipython",
    "version": 3
   },
   "file_extension": ".py",
   "mimetype": "text/x-python",
   "name": "python",
   "nbconvert_exporter": "python",
   "pygments_lexer": "ipython3",
   "version": "3.9.12"
  }
 },
 "nbformat": 4,
 "nbformat_minor": 5
}
